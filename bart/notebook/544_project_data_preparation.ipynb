{
  "nbformat": 4,
  "nbformat_minor": 0,
  "metadata": {
    "colab": {
      "name": "544_project_data_preparation.ipynb",
      "provenance": [],
      "collapsed_sections": []
    },
    "kernelspec": {
      "name": "python3",
      "display_name": "Python 3"
    },
    "accelerator": "GPU"
  },
  "cells": [
    {
      "cell_type": "markdown",
      "metadata": {
        "id": "givMDERUB18s"
      },
      "source": [
        "# Data Preparation For Bart\n"
      ]
    },
    {
      "cell_type": "code",
      "metadata": {
        "id": "Goj88fbbQ3Wo",
        "colab": {
          "base_uri": "https://localhost:8080/"
        },
        "outputId": "fcce31ed-7810-4cf7-f2df-b662279ea0ba"
      },
      "source": [
        "from google.colab import drive\n",
        "drive.mount('/content/drive')\n",
        "root_dir = \"/content/drive/MyDrive/Colab Notebooks/544_bart/\""
      ],
      "execution_count": null,
      "outputs": [
        {
          "output_type": "stream",
          "name": "stdout",
          "text": [
            "Drive already mounted at /content/drive; to attempt to forcibly remount, call drive.mount(\"/content/drive\", force_remount=True).\n"
          ]
        }
      ]
    },
    {
      "cell_type": "code",
      "metadata": {
        "colab": {
          "base_uri": "https://localhost:8080/"
        },
        "id": "Uh3sqf9UktCv",
        "outputId": "9dc7f747-56e1-4b91-b2eb-4a44da7d308b"
      },
      "source": [
        "!pip install rake-nltk\n",
        "import pandas as pd\n",
        "import numpy as np\n",
        "from rake_nltk import Rake\n",
        "import nltk\n",
        "\n",
        "nltk.download('stopwords')\n",
        "nltk.download('punkt')\n",
        "\n",
        "from nltk.corpus import stopwords"
      ],
      "execution_count": null,
      "outputs": [
        {
          "output_type": "stream",
          "name": "stdout",
          "text": [
            "Requirement already satisfied: rake-nltk in /usr/local/lib/python3.7/dist-packages (1.0.6)\n",
            "Requirement already satisfied: nltk<4.0.0,>=3.6.2 in /usr/local/lib/python3.7/dist-packages (from rake-nltk) (3.6.5)\n",
            "Requirement already satisfied: tqdm in /usr/local/lib/python3.7/dist-packages (from nltk<4.0.0,>=3.6.2->rake-nltk) (4.62.3)\n",
            "Requirement already satisfied: joblib in /usr/local/lib/python3.7/dist-packages (from nltk<4.0.0,>=3.6.2->rake-nltk) (1.1.0)\n",
            "Requirement already satisfied: regex>=2021.8.3 in /usr/local/lib/python3.7/dist-packages (from nltk<4.0.0,>=3.6.2->rake-nltk) (2021.11.10)\n",
            "Requirement already satisfied: click in /usr/local/lib/python3.7/dist-packages (from nltk<4.0.0,>=3.6.2->rake-nltk) (7.1.2)\n"
          ]
        },
        {
          "output_type": "stream",
          "name": "stderr",
          "text": [
            "[nltk_data] Downloading package stopwords to /root/nltk_data...\n",
            "[nltk_data]   Package stopwords is already up-to-date!\n",
            "[nltk_data] Downloading package punkt to /root/nltk_data...\n",
            "[nltk_data]   Package punkt is already up-to-date!\n"
          ]
        }
      ]
    },
    {
      "cell_type": "code",
      "metadata": {
        "colab": {
          "base_uri": "https://localhost:8080/",
          "height": 632
        },
        "id": "N-9K_i_JHOJE",
        "outputId": "5215757b-36f6-4b55-adb5-7236b87f1bd8"
      },
      "source": [
        "df = pd.read_csv(root_dir + 'ROCStories_winter2017 - ROCStories_winter2017.csv')\n",
        "df"
      ],
      "execution_count": null,
      "outputs": [
        {
          "output_type": "execute_result",
          "data": {
            "text/html": [
              "<div>\n",
              "<style scoped>\n",
              "    .dataframe tbody tr th:only-of-type {\n",
              "        vertical-align: middle;\n",
              "    }\n",
              "\n",
              "    .dataframe tbody tr th {\n",
              "        vertical-align: top;\n",
              "    }\n",
              "\n",
              "    .dataframe thead th {\n",
              "        text-align: right;\n",
              "    }\n",
              "</style>\n",
              "<table border=\"1\" class=\"dataframe\">\n",
              "  <thead>\n",
              "    <tr style=\"text-align: right;\">\n",
              "      <th></th>\n",
              "      <th>storyid</th>\n",
              "      <th>storytitle</th>\n",
              "      <th>sentence1</th>\n",
              "      <th>sentence2</th>\n",
              "      <th>sentence3</th>\n",
              "      <th>sentence4</th>\n",
              "      <th>sentence5</th>\n",
              "    </tr>\n",
              "  </thead>\n",
              "  <tbody>\n",
              "    <tr>\n",
              "      <th>0</th>\n",
              "      <td>8bbe6d11-1e2e-413c-bf81-eaea05f4f1bd</td>\n",
              "      <td>David Drops the Weight</td>\n",
              "      <td>David noticed he had put on a lot of weight re...</td>\n",
              "      <td>He examined his habits to try and figure out t...</td>\n",
              "      <td>He realized he'd been eating too much fast foo...</td>\n",
              "      <td>He stopped going to burger places and started ...</td>\n",
              "      <td>After a few weeks, he started to feel much bet...</td>\n",
              "    </tr>\n",
              "    <tr>\n",
              "      <th>1</th>\n",
              "      <td>0beabab2-fb49-460e-a6e6-f35a202e3348</td>\n",
              "      <td>Frustration</td>\n",
              "      <td>Tom had a very short temper.</td>\n",
              "      <td>One day a guest made him very angry.</td>\n",
              "      <td>He punched a hole in the wall of his house.</td>\n",
              "      <td>Tom's guest became afraid and left quickly.</td>\n",
              "      <td>Tom sat on his couch filled with regret about ...</td>\n",
              "    </tr>\n",
              "    <tr>\n",
              "      <th>2</th>\n",
              "      <td>87da1a22-df0b-410c-b186-439700b70ba6</td>\n",
              "      <td>Marcus Buys Khakis</td>\n",
              "      <td>Marcus needed clothing for a business casual e...</td>\n",
              "      <td>All of his clothes were either too formal or t...</td>\n",
              "      <td>He decided to buy a pair of khakis.</td>\n",
              "      <td>The pair he bought fit him perfectly.</td>\n",
              "      <td>Marcus was happy to have the right clothes for...</td>\n",
              "    </tr>\n",
              "    <tr>\n",
              "      <th>3</th>\n",
              "      <td>2d16bcd6-692a-4fc0-8e7c-4a6f81d9efa9</td>\n",
              "      <td>Different Opinions</td>\n",
              "      <td>Bobby thought Bill should buy a trailer and ha...</td>\n",
              "      <td>Bill thought a truck would be better for what ...</td>\n",
              "      <td>Bobby pointed out two vehicles were much more ...</td>\n",
              "      <td>Bill was set in his ways with conventional thi...</td>\n",
              "      <td>He ended up buying the truck he wanted despite...</td>\n",
              "    </tr>\n",
              "    <tr>\n",
              "      <th>4</th>\n",
              "      <td>c71bb23b-7731-4233-8298-76ba6886cee1</td>\n",
              "      <td>Overcoming shortcomings</td>\n",
              "      <td>John was a pastor with a very bad memory.</td>\n",
              "      <td>He tried to memorize his sermons many days in ...</td>\n",
              "      <td>He decided to learn to sing to overcome his ha...</td>\n",
              "      <td>He then made all his sermons into music and sa...</td>\n",
              "      <td>His congregation was delighted and so was he.</td>\n",
              "    </tr>\n",
              "    <tr>\n",
              "      <th>...</th>\n",
              "      <td>...</td>\n",
              "      <td>...</td>\n",
              "      <td>...</td>\n",
              "      <td>...</td>\n",
              "      <td>...</td>\n",
              "      <td>...</td>\n",
              "      <td>...</td>\n",
              "    </tr>\n",
              "    <tr>\n",
              "      <th>52660</th>\n",
              "      <td>134e8636-3617-43d8-ba6a-9a11b3b115b1</td>\n",
              "      <td>Flavor</td>\n",
              "      <td>The man liked the flavor.</td>\n",
              "      <td>He tried to recreate it at home.</td>\n",
              "      <td>He could not get the flavor right.</td>\n",
              "      <td>He asked the owner of the recipe for help.</td>\n",
              "      <td>The owner of the flavor sold him the recipe.</td>\n",
              "    </tr>\n",
              "    <tr>\n",
              "      <th>52661</th>\n",
              "      <td>4c317f76-ca42-4024-a4c2-12ec911cf89b</td>\n",
              "      <td>After Death</td>\n",
              "      <td>After my friend's dad's funeral, I got in trou...</td>\n",
              "      <td>The principal said I wasn't allowed to leave s...</td>\n",
              "      <td>He found out I had my friend sign me out.</td>\n",
              "      <td>He told me I was getting detention.</td>\n",
              "      <td>I skipped detention all week.</td>\n",
              "    </tr>\n",
              "    <tr>\n",
              "      <th>52662</th>\n",
              "      <td>a18fd0d2-4d0c-4316-befe-e3d827fe699b</td>\n",
              "      <td>Janice breaks her wrist</td>\n",
              "      <td>Janice was out exercising for her big soccer g...</td>\n",
              "      <td>She was doing some drills with her legs.</td>\n",
              "      <td>While working out and exercising she slips on ...</td>\n",
              "      <td>She falls down and uses her wrist to break her...</td>\n",
              "      <td>She breaks her wrist in the process and goes t...</td>\n",
              "    </tr>\n",
              "    <tr>\n",
              "      <th>52663</th>\n",
              "      <td>2c14252b-4080-4fca-8765-537772018508</td>\n",
              "      <td>Jamie marries for love</td>\n",
              "      <td>Jamie is an american girl.</td>\n",
              "      <td>Jamie wants to get married to a mexican man.</td>\n",
              "      <td>Her family assumes it's because the man wants ...</td>\n",
              "      <td>Jamie insist that she is marrying him out of l...</td>\n",
              "      <td>Jamie gets married and they spent the rest of ...</td>\n",
              "    </tr>\n",
              "    <tr>\n",
              "      <th>52664</th>\n",
              "      <td>19d92cee-110d-4cd3-90b3-fe9aee5577f6</td>\n",
              "      <td>Orange</td>\n",
              "      <td>The orange fell from the tree.</td>\n",
              "      <td>It hit a girl on the head.</td>\n",
              "      <td>The girl looked up at the tree.</td>\n",
              "      <td>Another orange fell from the tree.</td>\n",
              "      <td>That orange broke her nose.</td>\n",
              "    </tr>\n",
              "  </tbody>\n",
              "</table>\n",
              "<p>52665 rows × 7 columns</p>\n",
              "</div>"
            ],
            "text/plain": [
              "                                    storyid  ...                                          sentence5\n",
              "0      8bbe6d11-1e2e-413c-bf81-eaea05f4f1bd  ...  After a few weeks, he started to feel much bet...\n",
              "1      0beabab2-fb49-460e-a6e6-f35a202e3348  ...  Tom sat on his couch filled with regret about ...\n",
              "2      87da1a22-df0b-410c-b186-439700b70ba6  ...  Marcus was happy to have the right clothes for...\n",
              "3      2d16bcd6-692a-4fc0-8e7c-4a6f81d9efa9  ...  He ended up buying the truck he wanted despite...\n",
              "4      c71bb23b-7731-4233-8298-76ba6886cee1  ...      His congregation was delighted and so was he.\n",
              "...                                     ...  ...                                                ...\n",
              "52660  134e8636-3617-43d8-ba6a-9a11b3b115b1  ...       The owner of the flavor sold him the recipe.\n",
              "52661  4c317f76-ca42-4024-a4c2-12ec911cf89b  ...                      I skipped detention all week.\n",
              "52662  a18fd0d2-4d0c-4316-befe-e3d827fe699b  ...  She breaks her wrist in the process and goes t...\n",
              "52663  2c14252b-4080-4fca-8765-537772018508  ...  Jamie gets married and they spent the rest of ...\n",
              "52664  19d92cee-110d-4cd3-90b3-fe9aee5577f6  ...                        That orange broke her nose.\n",
              "\n",
              "[52665 rows x 7 columns]"
            ]
          },
          "metadata": {},
          "execution_count": 3
        }
      ]
    },
    {
      "cell_type": "code",
      "metadata": {
        "id": "EeGA-lDGQ2et"
      },
      "source": [
        "# df2 = pd.read_csv(root_dir + 'ROCStories__spring2016 - ROCStories_spring2016.csv')\n",
        "# df2"
      ],
      "execution_count": null,
      "outputs": []
    },
    {
      "cell_type": "code",
      "metadata": {
        "id": "MhCDrtq9TIza"
      },
      "source": [
        "# df = df.append(df2, ignore_index=True)\n",
        "# df"
      ],
      "execution_count": null,
      "outputs": []
    },
    {
      "cell_type": "code",
      "metadata": {
        "id": "sSNmf-21T7fZ"
      },
      "source": [
        "# Uses stopwords for english from NLTK, and all punctuation characters by\n",
        "# default\n",
        "#max_length=1 so that we only get one word\n",
        "r = Rake(max_length=1, min_length=1, include_repeated_phrases=False)\n",
        "\n",
        "def rake_implement(s1, s2, s3, s4, s5, r):\n",
        "    result = []\n",
        "    result.append(get_word(r, s1))\n",
        "    result.append(get_word(r, s2))\n",
        "    result.append(get_word(r, s3))\n",
        "    result.append(get_word(r, s4))\n",
        "    result.append(get_word(r, s5))\n",
        "    return ' '.join(result)\n",
        "\n",
        "def get_word(r, s):\n",
        "  r.extract_keywords_from_text(s)\n",
        "  phrases = r.get_ranked_phrases()\n",
        "  if(len(phrases) == 0):\n",
        "    #if nothing is extracted, take first word that is not in stopwords (from the middle)\n",
        "    sentence = s.split()\n",
        "    for i in range(int(len(sentence)/2), len(sentence)):\n",
        "      if not sentence[i] in stopwords.words('english'):\n",
        "        return sentence[i].lower()\n",
        "  else:\n",
        "    return phrases[0]\n",
        "\n",
        "#https://stackoverflow.com/questions/56836477/apply-nltk-rake-to-each-row-in-dataframe\n",
        "df['storyline'] = df.apply(lambda x: rake_implement(x.sentence1, x.sentence2, x.sentence3, x.sentence4, x.sentence5, r), axis=1)"
      ],
      "execution_count": null,
      "outputs": []
    },
    {
      "cell_type": "code",
      "metadata": {
        "colab": {
          "base_uri": "https://localhost:8080/",
          "height": 719
        },
        "id": "jY4ItlW5iwNH",
        "outputId": "ace13601-edea-4717-b53e-ce3ae10ffe8b"
      },
      "source": [
        "df"
      ],
      "execution_count": null,
      "outputs": [
        {
          "output_type": "execute_result",
          "data": {
            "text/html": [
              "<div>\n",
              "<style scoped>\n",
              "    .dataframe tbody tr th:only-of-type {\n",
              "        vertical-align: middle;\n",
              "    }\n",
              "\n",
              "    .dataframe tbody tr th {\n",
              "        vertical-align: top;\n",
              "    }\n",
              "\n",
              "    .dataframe thead th {\n",
              "        text-align: right;\n",
              "    }\n",
              "</style>\n",
              "<table border=\"1\" class=\"dataframe\">\n",
              "  <thead>\n",
              "    <tr style=\"text-align: right;\">\n",
              "      <th></th>\n",
              "      <th>storyid</th>\n",
              "      <th>storytitle</th>\n",
              "      <th>sentence1</th>\n",
              "      <th>sentence2</th>\n",
              "      <th>sentence3</th>\n",
              "      <th>sentence4</th>\n",
              "      <th>sentence5</th>\n",
              "      <th>storyline</th>\n",
              "    </tr>\n",
              "  </thead>\n",
              "  <tbody>\n",
              "    <tr>\n",
              "      <th>0</th>\n",
              "      <td>8bbe6d11-1e2e-413c-bf81-eaea05f4f1bd</td>\n",
              "      <td>David Drops the Weight</td>\n",
              "      <td>David noticed he had put on a lot of weight re...</td>\n",
              "      <td>He examined his habits to try and figure out t...</td>\n",
              "      <td>He realized he'd been eating too much fast foo...</td>\n",
              "      <td>He stopped going to burger places and started ...</td>\n",
              "      <td>After a few weeks, he started to feel much bet...</td>\n",
              "      <td>put try realized started weeks</td>\n",
              "    </tr>\n",
              "    <tr>\n",
              "      <th>1</th>\n",
              "      <td>0beabab2-fb49-460e-a6e6-f35a202e3348</td>\n",
              "      <td>Frustration</td>\n",
              "      <td>Tom had a very short temper.</td>\n",
              "      <td>One day a guest made him very angry.</td>\n",
              "      <td>He punched a hole in the wall of his house.</td>\n",
              "      <td>Tom's guest became afraid and left quickly.</td>\n",
              "      <td>Tom sat on his couch filled with regret about ...</td>\n",
              "      <td>tom angry wall tom regret</td>\n",
              "    </tr>\n",
              "    <tr>\n",
              "      <th>2</th>\n",
              "      <td>87da1a22-df0b-410c-b186-439700b70ba6</td>\n",
              "      <td>Marcus Buys Khakis</td>\n",
              "      <td>Marcus needed clothing for a business casual e...</td>\n",
              "      <td>All of his clothes were either too formal or t...</td>\n",
              "      <td>He decided to buy a pair of khakis.</td>\n",
              "      <td>The pair he bought fit him perfectly.</td>\n",
              "      <td>Marcus was happy to have the right clothes for...</td>\n",
              "      <td>business formal pair perfectly marcus</td>\n",
              "    </tr>\n",
              "    <tr>\n",
              "      <th>3</th>\n",
              "      <td>2d16bcd6-692a-4fc0-8e7c-4a6f81d9efa9</td>\n",
              "      <td>Different Opinions</td>\n",
              "      <td>Bobby thought Bill should buy a trailer and ha...</td>\n",
              "      <td>Bill thought a truck would be better for what ...</td>\n",
              "      <td>Bobby pointed out two vehicles were much more ...</td>\n",
              "      <td>Bill was set in his ways with conventional thi...</td>\n",
              "      <td>He ended up buying the truck he wanted despite...</td>\n",
              "      <td>trailer needed much ways truck</td>\n",
              "    </tr>\n",
              "    <tr>\n",
              "      <th>4</th>\n",
              "      <td>c71bb23b-7731-4233-8298-76ba6886cee1</td>\n",
              "      <td>Overcoming shortcomings</td>\n",
              "      <td>John was a pastor with a very bad memory.</td>\n",
              "      <td>He tried to memorize his sermons many days in ...</td>\n",
              "      <td>He decided to learn to sing to overcome his ha...</td>\n",
              "      <td>He then made all his sermons into music and sa...</td>\n",
              "      <td>His congregation was delighted and so was he.</td>\n",
              "      <td>pastor tried sing sundays delighted</td>\n",
              "    </tr>\n",
              "    <tr>\n",
              "      <th>...</th>\n",
              "      <td>...</td>\n",
              "      <td>...</td>\n",
              "      <td>...</td>\n",
              "      <td>...</td>\n",
              "      <td>...</td>\n",
              "      <td>...</td>\n",
              "      <td>...</td>\n",
              "      <td>...</td>\n",
              "    </tr>\n",
              "    <tr>\n",
              "      <th>52660</th>\n",
              "      <td>134e8636-3617-43d8-ba6a-9a11b3b115b1</td>\n",
              "      <td>Flavor</td>\n",
              "      <td>The man liked the flavor.</td>\n",
              "      <td>He tried to recreate it at home.</td>\n",
              "      <td>He could not get the flavor right.</td>\n",
              "      <td>He asked the owner of the recipe for help.</td>\n",
              "      <td>The owner of the flavor sold him the recipe.</td>\n",
              "      <td>flavor tried get recipe recipe</td>\n",
              "    </tr>\n",
              "    <tr>\n",
              "      <th>52661</th>\n",
              "      <td>4c317f76-ca42-4024-a4c2-12ec911cf89b</td>\n",
              "      <td>After Death</td>\n",
              "      <td>After my friend's dad's funeral, I got in trou...</td>\n",
              "      <td>The principal said I wasn't allowed to leave s...</td>\n",
              "      <td>He found out I had my friend sign me out.</td>\n",
              "      <td>He told me I was getting detention.</td>\n",
              "      <td>I skipped detention all week.</td>\n",
              "      <td>trouble day found told week</td>\n",
              "    </tr>\n",
              "    <tr>\n",
              "      <th>52662</th>\n",
              "      <td>a18fd0d2-4d0c-4316-befe-e3d827fe699b</td>\n",
              "      <td>Janice breaks her wrist</td>\n",
              "      <td>Janice was out exercising for her big soccer g...</td>\n",
              "      <td>She was doing some drills with her legs.</td>\n",
              "      <td>While working out and exercising she slips on ...</td>\n",
              "      <td>She falls down and uses her wrist to break her...</td>\n",
              "      <td>She breaks her wrist in the process and goes t...</td>\n",
              "      <td>janice legs working wrist wrist</td>\n",
              "    </tr>\n",
              "    <tr>\n",
              "      <th>52663</th>\n",
              "      <td>2c14252b-4080-4fca-8765-537772018508</td>\n",
              "      <td>Jamie marries for love</td>\n",
              "      <td>Jamie is an american girl.</td>\n",
              "      <td>Jamie wants to get married to a mexican man.</td>\n",
              "      <td>Her family assumes it's because the man wants ...</td>\n",
              "      <td>Jamie insist that she is marrying him out of l...</td>\n",
              "      <td>Jamie gets married and they spent the rest of ...</td>\n",
              "      <td>jamie married man marrying spent</td>\n",
              "    </tr>\n",
              "    <tr>\n",
              "      <th>52664</th>\n",
              "      <td>19d92cee-110d-4cd3-90b3-fe9aee5577f6</td>\n",
              "      <td>Orange</td>\n",
              "      <td>The orange fell from the tree.</td>\n",
              "      <td>It hit a girl on the head.</td>\n",
              "      <td>The girl looked up at the tree.</td>\n",
              "      <td>Another orange fell from the tree.</td>\n",
              "      <td>That orange broke her nose.</td>\n",
              "      <td>tree hit tree tree nose</td>\n",
              "    </tr>\n",
              "  </tbody>\n",
              "</table>\n",
              "<p>52665 rows × 8 columns</p>\n",
              "</div>"
            ],
            "text/plain": [
              "                                    storyid  ...                              storyline\n",
              "0      8bbe6d11-1e2e-413c-bf81-eaea05f4f1bd  ...         put try realized started weeks\n",
              "1      0beabab2-fb49-460e-a6e6-f35a202e3348  ...              tom angry wall tom regret\n",
              "2      87da1a22-df0b-410c-b186-439700b70ba6  ...  business formal pair perfectly marcus\n",
              "3      2d16bcd6-692a-4fc0-8e7c-4a6f81d9efa9  ...         trailer needed much ways truck\n",
              "4      c71bb23b-7731-4233-8298-76ba6886cee1  ...    pastor tried sing sundays delighted\n",
              "...                                     ...  ...                                    ...\n",
              "52660  134e8636-3617-43d8-ba6a-9a11b3b115b1  ...         flavor tried get recipe recipe\n",
              "52661  4c317f76-ca42-4024-a4c2-12ec911cf89b  ...            trouble day found told week\n",
              "52662  a18fd0d2-4d0c-4316-befe-e3d827fe699b  ...        janice legs working wrist wrist\n",
              "52663  2c14252b-4080-4fca-8765-537772018508  ...       jamie married man marrying spent\n",
              "52664  19d92cee-110d-4cd3-90b3-fe9aee5577f6  ...                tree hit tree tree nose\n",
              "\n",
              "[52665 rows x 8 columns]"
            ]
          },
          "metadata": {},
          "execution_count": 7
        }
      ]
    },
    {
      "cell_type": "code",
      "metadata": {
        "colab": {
          "base_uri": "https://localhost:8080/",
          "height": 424
        },
        "id": "cEz8aOcYH0pQ",
        "outputId": "6fd90ce3-0a0c-4575-8259-46eb35bc9935"
      },
      "source": [
        "def combineSen(row):\n",
        "  return row['sentence1'] + row['sentence2'] + row['sentence3'] + row['sentence4'] + row['sentence5']\n",
        "df['story'] = df.apply (lambda row: combineSen(row), axis=1)\n",
        "df = df[['storytitle', 'storyline', 'story']]\n",
        "df"
      ],
      "execution_count": null,
      "outputs": [
        {
          "output_type": "execute_result",
          "data": {
            "text/html": [
              "<div>\n",
              "<style scoped>\n",
              "    .dataframe tbody tr th:only-of-type {\n",
              "        vertical-align: middle;\n",
              "    }\n",
              "\n",
              "    .dataframe tbody tr th {\n",
              "        vertical-align: top;\n",
              "    }\n",
              "\n",
              "    .dataframe thead th {\n",
              "        text-align: right;\n",
              "    }\n",
              "</style>\n",
              "<table border=\"1\" class=\"dataframe\">\n",
              "  <thead>\n",
              "    <tr style=\"text-align: right;\">\n",
              "      <th></th>\n",
              "      <th>storytitle</th>\n",
              "      <th>storyline</th>\n",
              "      <th>story</th>\n",
              "    </tr>\n",
              "  </thead>\n",
              "  <tbody>\n",
              "    <tr>\n",
              "      <th>0</th>\n",
              "      <td>David Drops the Weight</td>\n",
              "      <td>put try realized started weeks</td>\n",
              "      <td>David noticed he had put on a lot of weight re...</td>\n",
              "    </tr>\n",
              "    <tr>\n",
              "      <th>1</th>\n",
              "      <td>Frustration</td>\n",
              "      <td>tom angry wall tom regret</td>\n",
              "      <td>Tom had a very short temper.One day a guest ma...</td>\n",
              "    </tr>\n",
              "    <tr>\n",
              "      <th>2</th>\n",
              "      <td>Marcus Buys Khakis</td>\n",
              "      <td>business formal pair perfectly marcus</td>\n",
              "      <td>Marcus needed clothing for a business casual e...</td>\n",
              "    </tr>\n",
              "    <tr>\n",
              "      <th>3</th>\n",
              "      <td>Different Opinions</td>\n",
              "      <td>trailer needed much ways truck</td>\n",
              "      <td>Bobby thought Bill should buy a trailer and ha...</td>\n",
              "    </tr>\n",
              "    <tr>\n",
              "      <th>4</th>\n",
              "      <td>Overcoming shortcomings</td>\n",
              "      <td>pastor tried sing sundays delighted</td>\n",
              "      <td>John was a pastor with a very bad memory.He tr...</td>\n",
              "    </tr>\n",
              "    <tr>\n",
              "      <th>...</th>\n",
              "      <td>...</td>\n",
              "      <td>...</td>\n",
              "      <td>...</td>\n",
              "    </tr>\n",
              "    <tr>\n",
              "      <th>52660</th>\n",
              "      <td>Flavor</td>\n",
              "      <td>flavor tried get recipe recipe</td>\n",
              "      <td>The man liked the flavor.He tried to recreate ...</td>\n",
              "    </tr>\n",
              "    <tr>\n",
              "      <th>52661</th>\n",
              "      <td>After Death</td>\n",
              "      <td>trouble day found told week</td>\n",
              "      <td>After my friend's dad's funeral, I got in trou...</td>\n",
              "    </tr>\n",
              "    <tr>\n",
              "      <th>52662</th>\n",
              "      <td>Janice breaks her wrist</td>\n",
              "      <td>janice legs working wrist wrist</td>\n",
              "      <td>Janice was out exercising for her big soccer g...</td>\n",
              "    </tr>\n",
              "    <tr>\n",
              "      <th>52663</th>\n",
              "      <td>Jamie marries for love</td>\n",
              "      <td>jamie married man marrying spent</td>\n",
              "      <td>Jamie is an american girl.Jamie wants to get m...</td>\n",
              "    </tr>\n",
              "    <tr>\n",
              "      <th>52664</th>\n",
              "      <td>Orange</td>\n",
              "      <td>tree hit tree tree nose</td>\n",
              "      <td>The orange fell from the tree.It hit a girl on...</td>\n",
              "    </tr>\n",
              "  </tbody>\n",
              "</table>\n",
              "<p>52665 rows × 3 columns</p>\n",
              "</div>"
            ],
            "text/plain": [
              "                    storytitle  ...                                              story\n",
              "0       David Drops the Weight  ...  David noticed he had put on a lot of weight re...\n",
              "1                  Frustration  ...  Tom had a very short temper.One day a guest ma...\n",
              "2           Marcus Buys Khakis  ...  Marcus needed clothing for a business casual e...\n",
              "3           Different Opinions  ...  Bobby thought Bill should buy a trailer and ha...\n",
              "4      Overcoming shortcomings  ...  John was a pastor with a very bad memory.He tr...\n",
              "...                        ...  ...                                                ...\n",
              "52660                   Flavor  ...  The man liked the flavor.He tried to recreate ...\n",
              "52661              After Death  ...  After my friend's dad's funeral, I got in trou...\n",
              "52662  Janice breaks her wrist  ...  Janice was out exercising for her big soccer g...\n",
              "52663   Jamie marries for love  ...  Jamie is an american girl.Jamie wants to get m...\n",
              "52664                   Orange  ...  The orange fell from the tree.It hit a girl on...\n",
              "\n",
              "[52665 rows x 3 columns]"
            ]
          },
          "metadata": {},
          "execution_count": 8
        }
      ]
    },
    {
      "cell_type": "code",
      "metadata": {
        "colab": {
          "base_uri": "https://localhost:8080/"
        },
        "id": "6pi4HW8rxeu0",
        "outputId": "91e7630c-aecb-4ba0-ffb4-36b1f13a8c6e"
      },
      "source": [
        "def concat_title_line(x):\n",
        "    l = x['storytitle'].split()\n",
        "    l.append('<EOT>')\n",
        "    l.extend(x['storyline'].split())\n",
        "    return ' '.join(l)\n",
        "\n",
        "df['titleLineConcat'] = df.apply(lambda x: concat_title_line(x), axis=1)"
      ],
      "execution_count": null,
      "outputs": [
        {
          "output_type": "stream",
          "name": "stderr",
          "text": [
            "/usr/local/lib/python3.7/dist-packages/ipykernel_launcher.py:7: SettingWithCopyWarning: \n",
            "A value is trying to be set on a copy of a slice from a DataFrame.\n",
            "Try using .loc[row_indexer,col_indexer] = value instead\n",
            "\n",
            "See the caveats in the documentation: https://pandas.pydata.org/pandas-docs/stable/user_guide/indexing.html#returning-a-view-versus-a-copy\n",
            "  import sys\n"
          ]
        }
      ]
    },
    {
      "cell_type": "code",
      "metadata": {
        "colab": {
          "base_uri": "https://localhost:8080/",
          "height": 35
        },
        "id": "21EnkmKDybQ8",
        "outputId": "d9ae7342-1508-46c0-8351-291d83c83663"
      },
      "source": [
        "df['titleLineConcat'][0]"
      ],
      "execution_count": null,
      "outputs": [
        {
          "output_type": "execute_result",
          "data": {
            "application/vnd.google.colaboratory.intrinsic+json": {
              "type": "string"
            },
            "text/plain": [
              "'David Drops the Weight <EOT> put try realized started weeks'"
            ]
          },
          "metadata": {},
          "execution_count": 10
        }
      ]
    },
    {
      "cell_type": "code",
      "metadata": {
        "colab": {
          "base_uri": "https://localhost:8080/",
          "height": 424
        },
        "id": "wooFsl3z19qn",
        "outputId": "9bfa4950-321d-47a1-c2db-6281199631f5"
      },
      "source": [
        "df"
      ],
      "execution_count": null,
      "outputs": [
        {
          "output_type": "execute_result",
          "data": {
            "text/html": [
              "<div>\n",
              "<style scoped>\n",
              "    .dataframe tbody tr th:only-of-type {\n",
              "        vertical-align: middle;\n",
              "    }\n",
              "\n",
              "    .dataframe tbody tr th {\n",
              "        vertical-align: top;\n",
              "    }\n",
              "\n",
              "    .dataframe thead th {\n",
              "        text-align: right;\n",
              "    }\n",
              "</style>\n",
              "<table border=\"1\" class=\"dataframe\">\n",
              "  <thead>\n",
              "    <tr style=\"text-align: right;\">\n",
              "      <th></th>\n",
              "      <th>storytitle</th>\n",
              "      <th>storyline</th>\n",
              "      <th>story</th>\n",
              "      <th>titleLineConcat</th>\n",
              "    </tr>\n",
              "  </thead>\n",
              "  <tbody>\n",
              "    <tr>\n",
              "      <th>0</th>\n",
              "      <td>David Drops the Weight</td>\n",
              "      <td>put try realized started weeks</td>\n",
              "      <td>David noticed he had put on a lot of weight re...</td>\n",
              "      <td>David Drops the Weight &lt;EOT&gt; put try realized ...</td>\n",
              "    </tr>\n",
              "    <tr>\n",
              "      <th>1</th>\n",
              "      <td>Frustration</td>\n",
              "      <td>tom angry wall tom regret</td>\n",
              "      <td>Tom had a very short temper.One day a guest ma...</td>\n",
              "      <td>Frustration &lt;EOT&gt; tom angry wall tom regret</td>\n",
              "    </tr>\n",
              "    <tr>\n",
              "      <th>2</th>\n",
              "      <td>Marcus Buys Khakis</td>\n",
              "      <td>business formal pair perfectly marcus</td>\n",
              "      <td>Marcus needed clothing for a business casual e...</td>\n",
              "      <td>Marcus Buys Khakis &lt;EOT&gt; business formal pair ...</td>\n",
              "    </tr>\n",
              "    <tr>\n",
              "      <th>3</th>\n",
              "      <td>Different Opinions</td>\n",
              "      <td>trailer needed much ways truck</td>\n",
              "      <td>Bobby thought Bill should buy a trailer and ha...</td>\n",
              "      <td>Different Opinions &lt;EOT&gt; trailer needed much w...</td>\n",
              "    </tr>\n",
              "    <tr>\n",
              "      <th>4</th>\n",
              "      <td>Overcoming shortcomings</td>\n",
              "      <td>pastor tried sing sundays delighted</td>\n",
              "      <td>John was a pastor with a very bad memory.He tr...</td>\n",
              "      <td>Overcoming shortcomings &lt;EOT&gt; pastor tried sin...</td>\n",
              "    </tr>\n",
              "    <tr>\n",
              "      <th>...</th>\n",
              "      <td>...</td>\n",
              "      <td>...</td>\n",
              "      <td>...</td>\n",
              "      <td>...</td>\n",
              "    </tr>\n",
              "    <tr>\n",
              "      <th>52660</th>\n",
              "      <td>Flavor</td>\n",
              "      <td>flavor tried get recipe recipe</td>\n",
              "      <td>The man liked the flavor.He tried to recreate ...</td>\n",
              "      <td>Flavor &lt;EOT&gt; flavor tried get recipe recipe</td>\n",
              "    </tr>\n",
              "    <tr>\n",
              "      <th>52661</th>\n",
              "      <td>After Death</td>\n",
              "      <td>trouble day found told week</td>\n",
              "      <td>After my friend's dad's funeral, I got in trou...</td>\n",
              "      <td>After Death &lt;EOT&gt; trouble day found told week</td>\n",
              "    </tr>\n",
              "    <tr>\n",
              "      <th>52662</th>\n",
              "      <td>Janice breaks her wrist</td>\n",
              "      <td>janice legs working wrist wrist</td>\n",
              "      <td>Janice was out exercising for her big soccer g...</td>\n",
              "      <td>Janice breaks her wrist &lt;EOT&gt; janice legs work...</td>\n",
              "    </tr>\n",
              "    <tr>\n",
              "      <th>52663</th>\n",
              "      <td>Jamie marries for love</td>\n",
              "      <td>jamie married man marrying spent</td>\n",
              "      <td>Jamie is an american girl.Jamie wants to get m...</td>\n",
              "      <td>Jamie marries for love &lt;EOT&gt; jamie married man...</td>\n",
              "    </tr>\n",
              "    <tr>\n",
              "      <th>52664</th>\n",
              "      <td>Orange</td>\n",
              "      <td>tree hit tree tree nose</td>\n",
              "      <td>The orange fell from the tree.It hit a girl on...</td>\n",
              "      <td>Orange &lt;EOT&gt; tree hit tree tree nose</td>\n",
              "    </tr>\n",
              "  </tbody>\n",
              "</table>\n",
              "<p>52665 rows × 4 columns</p>\n",
              "</div>"
            ],
            "text/plain": [
              "                    storytitle  ...                                    titleLineConcat\n",
              "0       David Drops the Weight  ...  David Drops the Weight <EOT> put try realized ...\n",
              "1                  Frustration  ...        Frustration <EOT> tom angry wall tom regret\n",
              "2           Marcus Buys Khakis  ...  Marcus Buys Khakis <EOT> business formal pair ...\n",
              "3           Different Opinions  ...  Different Opinions <EOT> trailer needed much w...\n",
              "4      Overcoming shortcomings  ...  Overcoming shortcomings <EOT> pastor tried sin...\n",
              "...                        ...  ...                                                ...\n",
              "52660                   Flavor  ...        Flavor <EOT> flavor tried get recipe recipe\n",
              "52661              After Death  ...      After Death <EOT> trouble day found told week\n",
              "52662  Janice breaks her wrist  ...  Janice breaks her wrist <EOT> janice legs work...\n",
              "52663   Jamie marries for love  ...  Jamie marries for love <EOT> jamie married man...\n",
              "52664                   Orange  ...               Orange <EOT> tree hit tree tree nose\n",
              "\n",
              "[52665 rows x 4 columns]"
            ]
          },
          "metadata": {},
          "execution_count": 11
        }
      ]
    },
    {
      "cell_type": "code",
      "metadata": {
        "id": "QYOgqi-N2VXs"
      },
      "source": [
        "df.to_csv(root_dir+'train_title_line_story.csv', encoding='utf-8', index=False)"
      ],
      "execution_count": null,
      "outputs": []
    },
    {
      "cell_type": "code",
      "metadata": {
        "id": "vf6iP97laxg0",
        "colab": {
          "base_uri": "https://localhost:8080/"
        },
        "outputId": "a36a33bc-56dc-4a78-f400-43fc7859d9c6"
      },
      "source": [
        "#output notebook as pdf\n",
        "!wget -nc https://raw.githubusercontent.com/brpy/colab-pdf/master/colab_pdf.py\n",
        "from colab_pdf import colab_pdf\n",
        "colab_pdf('544_project_data_preparation.ipynb')"
      ],
      "execution_count": null,
      "outputs": [
        {
          "output_type": "stream",
          "name": "stdout",
          "text": [
            "--2021-12-01 05:22:26--  https://raw.githubusercontent.com/brpy/colab-pdf/master/colab_pdf.py\n",
            "Resolving raw.githubusercontent.com (raw.githubusercontent.com)... 185.199.110.133, 185.199.109.133, 185.199.111.133, ...\n",
            "Connecting to raw.githubusercontent.com (raw.githubusercontent.com)|185.199.110.133|:443... connected.\n",
            "HTTP request sent, awaiting response... 200 OK\n",
            "Length: 1864 (1.8K) [text/plain]\n",
            "Saving to: ‘colab_pdf.py’\n",
            "\n",
            "\rcolab_pdf.py          0%[                    ]       0  --.-KB/s               \rcolab_pdf.py        100%[===================>]   1.82K  --.-KB/s    in 0s      \n",
            "\n",
            "2021-12-01 05:22:26 (28.6 MB/s) - ‘colab_pdf.py’ saved [1864/1864]\n",
            "\n"
          ]
        }
      ]
    }
  ]
}