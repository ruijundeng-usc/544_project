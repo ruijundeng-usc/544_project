{
  "nbformat": 4,
  "nbformat_minor": 0,
  "metadata": {
    "colab": {
      "name": "544_seq2seq.ipynb",
      "provenance": [],
      "collapsed_sections": []
    },
    "kernelspec": {
      "name": "python3",
      "display_name": "Python 3"
    },
    "language_info": {
      "name": "python"
    },
    "accelerator": "GPU"
  },
  "cells": [
    {
      "cell_type": "markdown",
      "metadata": {
        "id": "20-xNChyLLoh"
      },
      "source": [
        "# Seq2Seq for story generation\n",
        "Reference to https://github.com/rishishian/plan_write"
      ]
    },
    {
      "cell_type": "code",
      "metadata": {
        "colab": {
          "base_uri": "https://localhost:8080/"
        },
        "id": "Zb0f6FEA4-HQ",
        "outputId": "5f2f005c-1100-4249-cff7-8b15427292c2"
      },
      "source": [
        "#path is important here, if you name your root path differently,\n",
        "#need to change var CODELAB in plan_write_codelab/config.py\n",
        "from google.colab import drive\n",
        "drive.mount('/content/drive')\n",
        "root_dir = \"/content/drive/MyDrive/Colab Notebooks/544_bart/\""
      ],
      "execution_count": null,
      "outputs": [
        {
          "output_type": "stream",
          "name": "stdout",
          "text": [
            "Drive already mounted at /content/drive; to attempt to forcibly remount, call drive.mount(\"/content/drive\", force_remount=True).\n"
          ]
        }
      ]
    },
    {
      "cell_type": "markdown",
      "metadata": {
        "id": "ow0r2_FALGmH"
      },
      "source": [
        "## Without Attention"
      ]
    },
    {
      "cell_type": "code",
      "metadata": {
        "colab": {
          "base_uri": "https://localhost:8080/"
        },
        "id": "OqAn2EJG-3Oo",
        "outputId": "8e30dcf4-8c51-4844-fad0-a61b1f35262c"
      },
      "source": [
        "#original config set 10 epochs, each epoch takes ~13s in codelab with gpu\n",
        "PATH= '/content/drive/MyDrive/Colab\\ Notebooks/544_bart/plan_write_codelab/main.py'\n",
        "%run $PATH --config Title2Line --mode train_generate"
      ],
      "execution_count": null,
      "outputs": [
        {
          "output_type": "stream",
          "name": "stdout",
          "text": [
            "Device:cuda\n",
            "train/valid/test dataset path:/content/drive/MyDrive/Colab Notebooks/544_bart/plan_write_codelab/data/train_title_line.tsv//content/drive/MyDrive/Colab Notebooks/544_bart/plan_write_codelab/data/valid_title_line.tsv//content/drive/MyDrive/Colab Notebooks/544_bart/plan_write_codelab/data/test_title_line.tsv\n",
            "src_filed:title, trg_field:story_line\n",
            "Number of training examples: 80186\n",
            "Number of validation examples: 9816\n",
            "Number of testing examples: 8159\n",
            "Show data example\n",
            "{'title': ['overweight', 'kid'], 'story_line': ['dan', 'overweight', 'unhealthy', 'make', 'decided']} {'title': ['the', 'pet', 'bug'], 'story_line': ['oliver', 'spotted', 'jar', 'hoped', 'safe']} {'title': ['literature', 'vs', 'math'], 'story_line': ['literature', 'choose', 'indecisive', 'make', 'deny']}\n",
            "Unique tokens in vocabulary(min frequency:25): 3372\n",
            "The model has 7088684 trainable parameters\n",
            "Training title to story_line model\n",
            "Epoch: 01 | Time: 0m 13s\n",
            "\tTrain Loss: 5.399 | Train PPL: 221.247\n",
            "\t Val. Loss: 5.156 |  Val. PPL: 173.441\n"
          ]
        },
        {
          "output_type": "stream",
          "name": "stderr",
          "text": [
            "8159it [00:45, 180.79it/s]"
          ]
        },
        {
          "output_type": "stream",
          "name": "stdout",
          "text": [
            "| Test Loss: 5.231 | Test PPL: 186.89333454615638 |\n",
            "Refining Test File(from:/content/drive/MyDrive/Colab Notebooks/544_bart/plan_write_codelab/result/title2line.txt, to:/content/drive/MyDrive/Colab Notebooks/544_bart/plan_write_codelab/result/title2line_fortest.tsv)\n"
          ]
        },
        {
          "output_type": "stream",
          "name": "stderr",
          "text": [
            "\n"
          ]
        }
      ]
    },
    {
      "cell_type": "code",
      "metadata": {
        "colab": {
          "base_uri": "https://localhost:8080/"
        },
        "id": "Kw_1WhfAIC5Q",
        "outputId": "9fda9b44-4c25-4a6f-80db-0ad375272319"
      },
      "source": [
        "#original config set 10 epochs, each epoch takes ~4m38s in codelab with gpu\n",
        "%run $PATH --config Line2Story --mode train_generate"
      ],
      "execution_count": null,
      "outputs": [
        {
          "output_type": "stream",
          "name": "stdout",
          "text": [
            "Device:cuda\n",
            "train/valid/test dataset path:/content/drive/MyDrive/Colab Notebooks/544_bart/plan_write_codelab/data/train_line_story.tsv//content/drive/MyDrive/Colab Notebooks/544_bart/plan_write_codelab/data/valid_line_story.tsv//content/drive/MyDrive/Colab Notebooks/544_bart/plan_write_codelab/result/title2line_fortest.tsv\n",
            "src_filed:story_line, trg_field:story\n",
            "Number of training examples: 80186\n",
            "Number of validation examples: 9816\n",
            "Number of testing examples: 8159\n",
            "Show data example\n",
            "{'story_line': ['dan', 'overweight', 'unhealthy', 'make', 'decided'], 'story': ['</s>', 'dan', \"'s\", 'parents', 'were', 'overweight', '.', '</s>', 'dan', 'was', 'overweight', 'as', 'well', '.', '</s>', 'the', 'doctors', 'told', 'his', 'parents', 'it', 'was', 'unhealthy', '.', '</s>', 'his', 'parents', 'understood', 'and', 'decided', 'to', 'make', 'a', 'change', '.', '</s>', 'they', 'got', 'themselves', 'and', 'dan', 'on', 'a', 'diet', '.']} {'story_line': ['oliver', 'spotted', 'jar', 'hoped', 'safe'], 'story': ['</s>', 'oliver', 'was', 'playing', 'in', 'his', 'yard', 'one', 'day', '.', '</s>', 'suddenly', 'he', 'spotted', 'a', 'very', 'cool', 'beetle', 'and', 'caught', 'it', '.', '</s>', 'he', 'put', 'the', 'beetle', 'in', 'a', 'jar', 'and', 'gave', 'him', 'a', 'name', '.', '</s>', 'he', 'hoped', 'to', 'keep', 'his', 'pet', 'forever', 'but', 'his', 'dad', 'said', 'no', '.', '</s>', 'he', 'taught', 'oliver', 'to', 'release', 'the', 'pet', 'so', 'he', 'could', 'be', 'safe', '.']} {'story_line': ['<pad>', 'math', 'tutor', 'day', 'time', 'pass', '<eos>'], 'story': ['story', '0', 'to', 'be', 'generated']}\n",
            "Unique tokens in vocabulary(min frequency:25): 7182\n",
            "The model has 12944654 trainable parameters\n",
            "Training story_line to story model\n",
            "Epoch: 01 | Time: 4m 41s\n",
            "\tTrain Loss: 4.806 | Train PPL: 122.220\n",
            "\t Val. Loss: 5.527 |  Val. PPL: 251.377\n"
          ]
        },
        {
          "output_type": "stream",
          "name": "stderr",
          "text": [
            "8159it [08:17, 16.39it/s]\n",
            "/usr/local/lib/python3.7/dist-packages/nltk/translate/bleu_score.py:490: UserWarning: \n",
            "Corpus/Sentence contains 0 counts of 4-gram overlaps.\n",
            "BLEU scores might be undesirable; use SmoothingFunction().\n",
            "  warnings.warn(_msg)\n",
            "/usr/local/lib/python3.7/dist-packages/nltk/translate/bleu_score.py:490: UserWarning: \n",
            "Corpus/Sentence contains 0 counts of 3-gram overlaps.\n",
            "BLEU scores might be undesirable; use SmoothingFunction().\n",
            "  warnings.warn(_msg)\n",
            "/usr/local/lib/python3.7/dist-packages/nltk/translate/bleu_score.py:490: UserWarning: \n",
            "Corpus/Sentence contains 0 counts of 2-gram overlaps.\n",
            "BLEU scores might be undesirable; use SmoothingFunction().\n",
            "  warnings.warn(_msg)\n"
          ]
        },
        {
          "output_type": "stream",
          "name": "stdout",
          "text": [
            "Sentence bleu score:0.3233183685940476\n"
          ]
        }
      ]
    },
    {
      "cell_type": "markdown",
      "metadata": {
        "id": "0g-y5s20LAZ5"
      },
      "source": [
        "## With Attention"
      ]
    },
    {
      "cell_type": "code",
      "metadata": {
        "id": "IYR-Om7gKz_C"
      },
      "source": [
        "# %run $PATH --config Title2LineAttn --mode train_generate"
      ],
      "execution_count": null,
      "outputs": []
    },
    {
      "cell_type": "code",
      "metadata": {
        "id": "-7QJrsTNK6IP"
      },
      "source": [
        "# %run $PATH --config Title2LineAttn --mode train_generate"
      ],
      "execution_count": null,
      "outputs": []
    }
  ]
}